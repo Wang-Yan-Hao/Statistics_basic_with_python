{
 "cells": [
  {
   "cell_type": "code",
   "execution_count": 17,
   "metadata": {},
   "outputs": [
    {
     "name": "stdout",
     "output_type": "stream",
     "text": [
      "data:  [16, 16, 19, 23, 25, 27, 44, 45, 47, 55, 56]\n",
      "1  | 6  6  9  \n",
      "2  | 3  5  7  \n",
      "4  | 4  5  7  \n",
      "5  | 5  6  \n"
     ]
    }
   ],
   "source": [
    "# fiest way\n",
    "data = [16, 16, 25, 47, 56, 23, 45, 19, 55, 44, 27]\n",
    "data.sort()\n",
    "goal = {}\n",
    "print(\"data: \", data)\n",
    "for i in data:\n",
    "    stem = int(i/10) # stem is ten digit\n",
    "    leaf = i%10 # leaf is digit\n",
    "\n",
    "    if goal.get(stem, 0) == 0: # the key is not in dict\n",
    "        goal[stem] = [leaf]\n",
    "    else:\n",
    "        goal[stem].append(leaf)\n",
    "\n",
    "for key in goal.keys():\n",
    "    print(key, \" | \", end = \"\")\n",
    "    for value in goal[key]:\n",
    "        print(value, \" \", end = \"\")\n",
    "    print(\"\")\n",
    "\n"
   ]
  },
  {
   "cell_type": "code",
   "execution_count": 21,
   "metadata": {},
   "outputs": [
    {
     "data": {
      "text/plain": [
       "<StemContainer object of 3 artists>"
      ]
     },
     "execution_count": 21,
     "metadata": {},
     "output_type": "execute_result"
    },
    {
     "data": {
      "image/png": "[encoded data removed]",
      "text/plain": [
       "<Figure size 640x480 with 1 Axes>"
      ]
     },
     "metadata": {},
     "output_type": "display_data"
    }
   ],
   "source": [
    "# source: https://www.geeksforgeeks.org/stem-and-leaf-plots-in-python/\n",
    "# can not hable repeat value - number 16 below\n",
    "\n",
    "import matplotlib.pyplot as plt\n",
    "  \n",
    "data = [16, 16, 25, 47, 56, 23, 45, 19, 55, 44, 27]\n",
    "  \n",
    "# separating the stem parts\n",
    "stems = [1, 1, 1, 2, 2, 2, 4, 4, 4, 5, 5]\n",
    "  \n",
    "plt.ylabel('Data')   # for label at y-axis\n",
    "  \n",
    "plt.xlabel('stems')   # for label at x-axis\n",
    "  \n",
    "plt.xlim(0, 11)   # limit of the values at x axis\n",
    "  \n",
    "plt.stem(stems, data)   # required plot"
   ]
  },
  {
   "cell_type": "code",
   "execution_count": null,
   "metadata": {},
   "outputs": [],
   "source": []
  },
  {
   "cell_type": "code",
   "execution_count": null,
   "metadata": {},
   "outputs": [],
   "source": []
  },
  {
   "cell_type": "code",
   "execution_count": null,
   "metadata": {},
   "outputs": [],
   "source": []
  },
  {
   "cell_type": "code",
   "execution_count": null,
   "metadata": {},
   "outputs": [],
   "source": []
  }
 ],
 "metadata": {
  "kernelspec": {
   "display_name": "autopytorch",
   "language": "python",
   "name": "python3"
  },
  "language_info": {
   "codemirror_mode": {
    "name": "ipython",
    "version": 3
   },
   "file_extension": ".py",
   "mimetype": "text/x-python",
   "name": "python",
   "nbconvert_exporter": "python",
   "pygments_lexer": "ipython3",
   "version": "3.8.16"
  },
  "orig_nbformat": 4,
  "vscode": {
   "interpreter": {
    "hash": "9f8b18ae7794193a368c50ff41dfdcf1c6a3e6bc08764bfb820b01662cfc5089"
   }
  }
 },
 "nbformat": 4,
 "nbformat_minor": 2
}
